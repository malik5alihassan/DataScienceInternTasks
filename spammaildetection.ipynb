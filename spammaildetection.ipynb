{
  "nbformat": 4,
  "nbformat_minor": 0,
  "metadata": {
    "colab": {
      "provenance": []
    },
    "kernelspec": {
      "name": "python3",
      "display_name": "Python 3"
    },
    "language_info": {
      "name": "python"
    }
  },
  "cells": [
    {
      "cell_type": "markdown",
      "source": [
        "**SPAM EMAIL DETECTION**"
      ],
      "metadata": {
        "id": "DEZtIodz3xb9"
      }
    },
    {
      "cell_type": "code",
      "source": [
        "!pip install pandas matplotlib"
      ],
      "metadata": {
        "id": "EWaPPh7z32IB"
      },
      "execution_count": null,
      "outputs": []
    },
    {
      "cell_type": "code",
      "source": [
        "import pandas as pd\n",
        "data = pd.read_csv('spam.csv', encoding='latin-1')\n",
        "\n",
        "print(data.head())\n"
      ],
      "metadata": {
        "id": "OL5T9P-04BDU"
      },
      "execution_count": null,
      "outputs": []
    },
    {
      "cell_type": "markdown",
      "source": [
        "**NUMBER OF HAM AND SPAM MAILS**"
      ],
      "metadata": {
        "id": "Qn-6XZc54fWi"
      }
    },
    {
      "cell_type": "code",
      "source": [
        "import matplotlib.pyplot as plt\n",
        "\n",
        "# Count the occurrences of ham and spam\n",
        "count = data['v1'].value_counts()\n",
        "\n",
        "# Plot the data\n",
        "plt.bar(count.index, count.values)\n",
        "plt.xlabel('Email Type')\n",
        "plt.ylabel('Count')\n",
        "plt.title('Distribution of Ham and Spam Emails')\n",
        "plt.show()\n"
      ],
      "metadata": {
        "id": "zUMdXNV_4YKb"
      },
      "execution_count": null,
      "outputs": []
    },
    {
      "cell_type": "markdown",
      "source": [
        "**Pie Chart - Email Type Percentage**"
      ],
      "metadata": {
        "id": "hFGZMqi74iq6"
      }
    },
    {
      "cell_type": "code",
      "source": [
        "plt.pie(count.values, labels=count.index, autopct='%1.1f%%')\n",
        "plt.title('Percentage of Ham and Spam Emails')\n",
        "plt.show()\n"
      ],
      "metadata": {
        "id": "sT7szsus4pVB"
      },
      "execution_count": null,
      "outputs": []
    },
    {
      "cell_type": "markdown",
      "source": [
        "**Histogram - Email Content Length**"
      ],
      "metadata": {
        "id": "AhYXWpuf4sqB"
      }
    },
    {
      "cell_type": "code",
      "source": [
        "data['Content Length'] = data['v2'].apply(len)\n",
        "plt.hist(data[data['v1'] == 'ham']['Content Length'], bins=20, alpha=0.5, label='Ham')\n",
        "plt.hist(data[data['v1'] == 'spam']['Content Length'], bins=20, alpha=0.5, label='Spam')\n",
        "plt.xlabel('Content Length')\n",
        "plt.ylabel('Frequency')\n",
        "plt.title('Email Content Length Distribution')\n",
        "plt.legend()\n",
        "plt.show()\n"
      ],
      "metadata": {
        "id": "qqgEX5qP4wGR"
      },
      "execution_count": null,
      "outputs": []
    },
    {
      "cell_type": "markdown",
      "source": [
        "**Box Plot - Email Content Length by Type**"
      ],
      "metadata": {
        "id": "woNMbCAA43Kh"
      }
    },
    {
      "cell_type": "code",
      "source": [
        "data.boxplot(column='Content Length', by='v1')\n",
        "plt.ylabel('Content Length')\n",
        "plt.title('Email Content Length Distribution by Type')\n",
        "plt.suptitle('')  # Remove the default title\n",
        "plt.xticks([1, 2], ['Ham', 'Spam'])\n",
        "plt.show()\n"
      ],
      "metadata": {
        "id": "GCPeT6gz44WQ"
      },
      "execution_count": null,
      "outputs": []
    }
  ]
}